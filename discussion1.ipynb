{
 "cells": [
  {
   "cell_type": "markdown",
   "metadata": {
    "nbpresent": {
     "id": "3e5dafa4-3fd2-43e7-98d6-1b2f0ce66224"
    },
    "slideshow": {
     "slide_type": "slide"
    }
   },
   "source": [
    "# Scientific Computing\n",
    "\n",
    "[[Instructor: Lei Zhang]](http://ins.sjtu.edu.cn/people/lzhang)  [[CANVAS]](https://oc.sjtu.edu.cn/courses/27589)\n",
    "\n",
    "See the end of this note and/or [CANVAS](https://oc.sjtu.edu.cn/courses/27589) for administrative details.\n",
    "\n",
    "## Textbook:\n",
    "* [[Numerical Mathematics]](https://link.springer.com/book/10.1007%2Fb98885) by A. Quarteroni, R. Sacco, and F. Saleri\n",
    "\n",
    "## Other References:\n",
    "* 数值分析, 张平文，李铁军编著，北京大学出版社\n",
    "* 数值分析基础, 关治，陆金甫编著，高等教育出版社。\n",
    "* 数值分析(第七版 影印版)，Burden, Faires, 高等教育出版社。\n",
    "* Iterative methods for sparse linear systems, Saad, SIAM, 2003.\n",
    "* Numerical Optimization, Nocedal, Wright, Springer, 2006\n",
    "* A First Course in the Numerical Analysis of Differential Equations, Iserles, Cambridge, 2008\n"
   ]
  },
  {
   "cell_type": "markdown",
   "metadata": {
    "nbpresent": {
     "id": "09b18283-a169-4fb7-bd4a-128028c30af0"
    },
    "slideshow": {
     "slide_type": "slide"
    }
   },
   "source": [
    "# What is the course about?\n",
    "\n",
    "- Alternative names:\n",
    "    - Numerical analysis\n",
    "    - Numerical methods\n",
    "    - Numerical computation\n",
    "    - Technical computing\n",
    "    - Scientific computing\n",
    "    - Computational science and engineering\n",
    "\n",
    "[[Numerical analysis course with Julia ]](https://discourse.julialang.org/t/numerical-analysis-course-with-julia/34215)"
   ]
  },
  {
   "cell_type": "markdown",
   "metadata": {
    "nbpresent": {
     "id": "4b7aad1e-53b6-492e-bff5-77d2ea999a45"
    },
    "slideshow": {
     "slide_type": "subslide"
    }
   },
   "source": [
    "# A Crash-Course\n",
    "\n",
    "Goal: understand the main principles behind *numerical* computations (as opposed to *symbolic* computations)\n",
    "* principles of numerical mathematics\n",
    "* direct methods and iterative methods for linear sytems\n",
    "* approximation of eigenvlaues and eigenvectors\n",
    "* nonlinear equations, nonlinear systems and numerical optimization\n",
    "* polynomial interpolation, numerical integration, and approximation theory\n",
    "* solving (ordinary ) differential equations numerically\n",
    "\n",
    "Next term: numerical methods for (partial) differential equations"
   ]
  },
  {
   "cell_type": "code",
   "execution_count": 1,
   "metadata": {
    "nbpresent": {
     "id": "aa932dcb-33d8-4618-a910-a83041cca3ab"
    },
    "slideshow": {
     "slide_type": "slide"
    }
   },
   "outputs": [],
   "source": [
    "using PyCall \n",
    "YouTubeVideo = pyimport(\"IPython.lib.display\").YouTubeVideo\n",
    "Video = pyimport(\"IPython.display\").Video;"
   ]
  },
  {
   "cell_type": "markdown",
   "metadata": {
    "nbpresent": {
     "id": "f99314fd-c6f2-487a-bf84-f6fd1e2f61b1"
    },
    "slideshow": {
     "slide_type": "slide"
    }
   },
   "source": [
    "# Principles of Numerical Mathematics\n",
    "\n",
    "* well-posedness and condition number of a problem\n",
    "* stability of numerical methods\n",
    "* a priori and a posteriori analysis\n",
    "* errors in computational models\n",
    "* floating point arithmetic (underpins everything)\n",
    "\n",
    "*[[The World's Fastest linear solver]](http://www.polyu.edu.hk/ama/pdf/talk_polyu20.pdf)\n",
    "<img src=\"http://pi.math.cornell.edu/~web6140/chop.png\" style=\"width: 400px;\"/>\n"
   ]
  },
  {
   "cell_type": "code",
   "execution_count": 2,
   "metadata": {
    "nbpresent": {
     "id": "80f6149d-7f6a-44b1-b004-89add4ab25e0"
    },
    "slideshow": {
     "slide_type": "slide"
    }
   },
   "outputs": [
    {
     "data": {
      "image/jpeg": "[encoded data removed]",
      "text/html": [
       "\n",
       "        <iframe\n",
       "            width=\"400\"\n",
       "            height=\"300\"\n",
       "            src=\"https://www.youtube.com/embed/RuKkePyo9zk\"\n",
       "            frameborder=\"0\"\n",
       "            allowfullscreen\n",
       "        ></iframe>\n",
       "        "
      ],
      "text/plain": [
       "PyObject <IPython.lib.display.YouTubeVideo object at 0x7ff0e489e2e0>"
      ]
     },
     "execution_count": 2,
     "metadata": {},
     "output_type": "execute_result"
    }
   ],
   "source": [
    "YouTubeVideo(\"RuKkePyo9zk\")"
   ]
  },
  {
   "cell_type": "code",
   "execution_count": 3,
   "metadata": {},
   "outputs": [],
   "source": [
    "using Printf, LinearAlgebra, Plots"
   ]
  },
  {
   "cell_type": "code",
   "execution_count": 4,
   "metadata": {},
   "outputs": [
    {
     "data": {
      "text/plain": [
       "fdtest (generic function with 1 method)"
      ]
     },
     "execution_count": 4,
     "metadata": {},
     "output_type": "execute_result"
    }
   ],
   "source": [
    "function fdtest(F::Function, dF::Function, x; verbose=true)\n",
    "   errors = Float64[]\n",
    "   E = F(x)\n",
    "   dE = dF(x)\n",
    "   # loop through finite-difference step-lengths\n",
    "   @printf(\"---------|----------- \\n\")\n",
    "   @printf(\"    h    | error \\n\")\n",
    "   @printf(\"---------|----------- \\n\")\n",
    "   h = zeros(Float64, 16)\n",
    "   err = zeros(Float64, 16)\n",
    "   for p = 1:16\n",
    "      h[p] = 0.1^p\n",
    "      dEh = copy(dE)\n",
    "      for n = 1:length(dE)\n",
    "         x[n] += h[p]\n",
    "         dEh[n] = (F(x) - E)[1] / h[p]\n",
    "         x[n] -= h[p]\n",
    "      end\n",
    "      push!(errors, norm.(dE .- dEh, Inf)...)\n",
    "      @printf(\" %1.1e | %4.2e  \\n\", h[p], errors[end])\n",
    "      #err[p] = errors[end]\n",
    "   end\n",
    "   @printf(\"---------|----------- \\n\")\n",
    "    \n",
    "   display(plot(h, errors, lw=2, m=:o, ms=8, xaxis=:log, yaxis=:log))\n",
    " \n",
    "   if minimum(errors) <= 1e-3 * maximum(errors)\n",
    "      println(\"passed\")\n",
    "      return true\n",
    "   else\n",
    "      warn(\"\"\"It seems the finite-difference test has failed, which indicates\n",
    "      that there is an inconsistency between the function and gradient\n",
    "      evaluation. Please double-check this manually / visually. (It is\n",
    "      also possible that the function being tested is poorly scaled.)\"\"\")\n",
    "      return false\n",
    "   end\n",
    "    \n",
    "end\n"
   ]
  },
  {
   "cell_type": "code",
   "execution_count": 5,
   "metadata": {},
   "outputs": [
    {
     "data": {
      "image/svg+xml": [
       "<?xml version=\"1.0\" encoding=\"utf-8\"?>\n",
       "<svg xmlns=\"http://www.w3.org/2000/svg\" xmlns:xlink=\"http://www.w3.org/1999/xlink\" width=\"600\" height=\"400\" viewBox=\"0 0 2400 1600\">\n",
       "<defs>\n",
       "  <clipPath id=\"clip930\">\n",
       "    <rect x=\"0\" y=\"0\" width=\"2400\" height=\"1600\"/>\n",
       "  </clipPath>\n",
       "</defs>\n",
       "<path clip-path=\"url(#clip930)\" d=\"\n",
       "M0 1600 L2400 1600 L2400 0 L0 0  Z\n",
       "  \" fill=\"#ffffff\" fill-rule=\"evenodd\" fill-opacity=\"1\"/>\n",
       "<defs>\n",
       "  <clipPath id=\"clip931\">\n",
       "    <rect x=\"480\" y=\"0\" width=\"1681\" height=\"1600\"/>\n",
       "  </clipPath>\n",
       "</defs>\n",
       "<path clip-path=\"url(#clip930)\" d=\"\n",
       "M181.04 1474.16 L2352.76 1474.16 L2352.76 47.2441 L181.04 47.2441  Z\n",
       "  \" fill=\"#ffffff\" fill-rule=\"evenodd\" fill-opacity=\"1\"/>\n",
       "<defs>\n",
       "  <clipPath id=\"clip932\">\n",
       "    <rect x=\"181\" y=\"47\" width=\"2173\" height=\"1428\"/>\n",
       "  </clipPath>\n",
       "</defs>\n",
       "<polyline clip-path=\"url(#clip932)\" style=\"stroke:#000000; stroke-width:2; stroke-opacity:0.1; fill:none\" points=\"\n",
       "  379.089,1474.16 379.089,47.2441 \n",
       "  \"/>\n",
       "<polyline clip-path=\"url(#clip932)\" style=\"stroke:#000000; stroke-width:2; stroke-opacity:0.1; fill:none\" points=\"\n",
       "  788.847,1474.16 788.847,47.2441 \n",
       "  \"/>\n",
       "<polyline clip-path=\"url(#clip932)\" style=\"stroke:#000000; stroke-width:2; stroke-opacity:0.1; fill:none\" points=\"\n",
       "  1198.6,1474.16 1198.6,47.2441 \n",
       "  \"/>\n",
       "<polyline clip-path=\"url(#clip932)\" style=\"stroke:#000000; stroke-width:2; stroke-opacity:0.1; fill:none\" points=\"\n",
       "  1608.36,1474.16 1608.36,47.2441 \n",
       "  \"/>\n",
       "<polyline clip-path=\"url(#clip932)\" style=\"stroke:#000000; stroke-width:2; stroke-opacity:0.1; fill:none\" points=\"\n",
       "  2018.12,1474.16 2018.12,47.2441 \n",
       "  \"/>\n",
       "<polyline clip-path=\"url(#clip932)\" style=\"stroke:#000000; stroke-width:2; stroke-opacity:0.1; fill:none\" points=\"\n",
       "  181.04,1347.85 2352.76,1347.85 \n",
       "  \"/>\n",
       "<polyline clip-path=\"url(#clip932)\" style=\"stroke:#000000; stroke-width:2; stroke-opacity:0.1; fill:none\" points=\"\n",
       "  181.04,1021.9 2352.76,1021.9 \n",
       "  \"/>\n",
       "<polyline clip-path=\"url(#clip932)\" style=\"stroke:#000000; stroke-width:2; stroke-opacity:0.1; fill:none\" points=\"\n",
       "  181.04,695.953 2352.76,695.953 \n",
       "  \"/>\n",
       "<polyline clip-path=\"url(#clip932)\" style=\"stroke:#000000; stroke-width:2; stroke-opacity:0.1; fill:none\" points=\"\n",
       "  181.04,370.004 2352.76,370.004 \n",
       "  \"/>\n",
       "<polyline clip-path=\"url(#clip930)\" style=\"stroke:#000000; stroke-width:4; stroke-opacity:1; fill:none\" points=\"\n",
       "  181.04,1474.16 2352.76,1474.16 \n",
       "  \"/>\n",
       "<polyline clip-path=\"url(#clip930)\" style=\"stroke:#000000; stroke-width:4; stroke-opacity:1; fill:none\" points=\"\n",
       "  181.04,1474.16 181.04,47.2441 \n",
       "  \"/>\n",
       "<polyline clip-path=\"url(#clip930)\" style=\"stroke:#000000; stroke-width:4; stroke-opacity:1; fill:none\" points=\"\n",
       "  379.089,1474.16 379.089,1457.04 \n",
       "  \"/>\n",
       "<polyline clip-path=\"url(#clip930)\" style=\"stroke:#000000; stroke-width:4; stroke-opacity:1; fill:none\" points=\"\n",
       "  788.847,1474.16 788.847,1457.04 \n",
       "  \"/>\n",
       "<polyline clip-path=\"url(#clip930)\" style=\"stroke:#000000; stroke-width:4; stroke-opacity:1; fill:none\" points=\"\n",
       "  1198.6,1474.16 1198.6,1457.04 \n",
       "  \"/>\n",
       "<polyline clip-path=\"url(#clip930)\" style=\"stroke:#000000; stroke-width:4; stroke-opacity:1; fill:none\" points=\"\n",
       "  1608.36,1474.16 1608.36,1457.04 \n",
       "  \"/>\n",
       "<polyline clip-path=\"url(#clip930)\" style=\"stroke:#000000; stroke-width:4; stroke-opacity:1; fill:none\" points=\"\n",
       "  2018.12,1474.16 2018.12,1457.04 \n",
       "  \"/>\n",
       "<polyline clip-path=\"url(#clip930)\" style=\"stroke:#000000; stroke-width:4; stroke-opacity:1; fill:none\" points=\"\n",
       "  181.04,1347.85 207.1,1347.85 \n",
       "  \"/>\n",
       "<polyline clip-path=\"url(#clip930)\" style=\"stroke:#000000; stroke-width:4; stroke-opacity:1; fill:none\" points=\"\n",
       "  181.04,1021.9 207.1,1021.9 \n",
       "  \"/>\n",
       "<polyline clip-path=\"url(#clip930)\" style=\"stroke:#000000; stroke-width:4; stroke-opacity:1; fill:none\" points=\"\n",
       "  181.04,695.953 207.1,695.953 \n",
       "  \"/>\n",
       "<polyline clip-path=\"url(#clip930)\" style=\"stroke:#000000; stroke-width:4; stroke-opacity:1; fill:none\" points=\"\n",
       "  181.04,370.004 207.1,370.004 \n",
       "  \"/>\n",
       "<path clip-path=\"url(#clip930)\" d=\"M 0 0 M322.863 1545.24 L330.502 1545.24 L330.502 1518.87 L322.191 1520.54 L322.191 1516.28 L330.455 1514.61 L335.131 1514.61 L335.131 1545.24 L342.77 1545.24 L342.77 1549.17 L322.863 1549.17 L322.863 1545.24 Z\" fill=\"#000000\" fill-rule=\"evenodd\" fill-opacity=\"1\" /><path clip-path=\"url(#clip930)\" d=\"M 0 0 M357.839 1517.69 Q354.228 1517.69 352.4 1521.26 Q350.594 1524.8 350.594 1531.93 Q350.594 1539.03 352.4 1542.6 Q354.228 1546.14 357.839 1546.14 Q361.474 1546.14 363.279 1542.6 Q365.108 1539.03 365.108 1531.93 Q365.108 1524.8 363.279 1521.26 Q361.474 1517.69 357.839 1517.69 M357.839 1513.99 Q363.65 1513.99 366.705 1518.59 Q369.784 1523.18 369.784 1531.93 Q369.784 1540.65 366.705 1545.26 Q363.65 1549.84 357.839 1549.84 Q352.029 1549.84 348.951 1545.26 Q345.895 1540.65 345.895 1531.93 Q345.895 1523.18 348.951 1518.59 Q352.029 1513.99 357.839 1513.99 Z\" fill=\"#000000\" fill-rule=\"evenodd\" fill-opacity=\"1\" /><path clip-path=\"url(#clip930)\" d=\"M 0 0 M369.784 1508.09 L393.895 1508.09 L393.895 1511.29 L369.784 1511.29 L369.784 1508.09 Z\" fill=\"#000000\" fill-rule=\"evenodd\" fill-opacity=\"1\" /><path clip-path=\"url(#clip930)\" d=\"M 0 0 M398.672 1518.56 L404.879 1518.56 L404.879 1497.14 L398.127 1498.5 L398.127 1495.04 L404.841 1493.68 L408.641 1493.68 L408.641 1518.56 L414.847 1518.56 L414.847 1521.76 L398.672 1521.76 L398.672 1518.56 Z\" fill=\"#000000\" fill-rule=\"evenodd\" fill-opacity=\"1\" /><path clip-path=\"url(#clip930)\" d=\"M 0 0 M419.004 1493.68 L433.918 1493.68 L433.918 1496.88 L422.483 1496.88 L422.483 1503.76 Q423.311 1503.48 424.138 1503.35 Q424.966 1503.2 425.793 1503.2 Q430.495 1503.2 433.241 1505.77 Q435.987 1508.35 435.987 1512.75 Q435.987 1517.29 433.166 1519.81 Q430.345 1522.31 425.21 1522.31 Q423.442 1522.31 421.599 1522.01 Q419.775 1521.71 417.819 1521.1 L417.819 1517.29 Q419.511 1518.21 421.317 1518.66 Q423.123 1519.11 425.135 1519.11 Q428.389 1519.11 430.288 1517.4 Q432.188 1515.69 432.188 1512.75 Q432.188 1509.82 430.288 1508.11 Q428.389 1506.4 425.135 1506.4 Q423.612 1506.4 422.088 1506.73 Q420.584 1507.07 419.004 1507.79 L419.004 1493.68 Z\" fill=\"#000000\" fill-rule=\"evenodd\" fill-opacity=\"1\" /><path clip-path=\"url(#clip930)\" d=\"M 0 0 M732.865 1545.24 L740.504 1545.24 L740.504 1518.87 L732.194 1520.54 L732.194 1516.28 L740.458 1514.61 L745.133 1514.61 L745.133 1545.24 L752.772 1545.24 L752.772 1549.17 L732.865 1549.17 L732.865 1545.24 Z\" fill=\"#000000\" fill-rule=\"evenodd\" fill-opacity=\"1\" /><path clip-path=\"url(#clip930)\" d=\"M 0 0 M767.842 1517.69 Q764.231 1517.69 762.402 1521.26 Q760.596 1524.8 760.596 1531.93 Q760.596 1539.03 762.402 1542.6 Q764.231 1546.14 767.842 1546.14 Q771.476 1546.14 773.281 1542.6 Q775.11 1539.03 775.11 1531.93 Q775.11 1524.8 773.281 1521.26 Q771.476 1517.69 767.842 1517.69 M767.842 1513.99 Q773.652 1513.99 776.707 1518.59 Q779.786 1523.18 779.786 1531.93 Q779.786 1540.65 776.707 1545.26 Q773.652 1549.84 767.842 1549.84 Q762.031 1549.84 758.953 1545.26 Q755.897 1540.65 755.897 1531.93 Q755.897 1523.18 758.953 1518.59 Q762.031 1513.99 767.842 1513.99 Z\" fill=\"#000000\" fill-rule=\"evenodd\" fill-opacity=\"1\" /><path clip-path=\"url(#clip930)\" d=\"M 0 0 M779.786 1508.09 L803.898 1508.09 L803.898 1511.29 L779.786 1511.29 L779.786 1508.09 Z\" fill=\"#000000\" fill-rule=\"evenodd\" fill-opacity=\"1\" /><path clip-path=\"url(#clip930)\" d=\"M 0 0 M808.675 1518.56 L814.881 1518.56 L814.881 1497.14 L808.129 1498.5 L808.129 1495.04 L814.844 1493.68 L818.643 1493.68 L818.643 1518.56 L824.849 1518.56 L824.849 1521.76 L808.675 1521.76 L808.675 1518.56 Z\" fill=\"#000000\" fill-rule=\"evenodd\" fill-opacity=\"1\" /><path clip-path=\"url(#clip930)\" d=\"M 0 0 M832.241 1518.56 L845.5 1518.56 L845.5 1521.76 L827.671 1521.76 L827.671 1518.56 Q829.834 1516.33 833.557 1512.56 Q837.3 1508.78 838.259 1507.69 Q840.084 1505.64 840.798 1504.23 Q841.532 1502.8 841.532 1501.43 Q841.532 1499.19 839.952 1497.78 Q838.391 1496.37 835.871 1496.37 Q834.084 1496.37 832.09 1496.99 Q830.116 1497.61 827.859 1498.87 L827.859 1495.04 Q830.153 1494.11 832.147 1493.64 Q834.14 1493.17 835.796 1493.17 Q840.159 1493.17 842.754 1495.36 Q845.35 1497.54 845.35 1501.19 Q845.35 1502.92 844.692 1504.48 Q844.052 1506.02 842.341 1508.13 Q841.87 1508.67 839.35 1511.29 Q836.83 1513.88 832.241 1518.56 Z\" fill=\"#000000\" fill-rule=\"evenodd\" fill-opacity=\"1\" /><path clip-path=\"url(#clip930)\" d=\"M 0 0 M1152.53 1545.24 L1160.16 1545.24 L1160.16 1518.87 L1151.85 1520.54 L1151.85 1516.28 L1160.12 1514.61 L1164.79 1514.61 L1164.79 1545.24 L1172.43 1545.24 L1172.43 1549.17 L1152.53 1549.17 L1152.53 1545.24 Z\" fill=\"#000000\" fill-rule=\"evenodd\" fill-opacity=\"1\" /><path clip-path=\"url(#clip930)\" d=\"M 0 0 M1187.5 1517.69 Q1183.89 1517.69 1182.06 1521.26 Q1180.26 1524.8 1180.26 1531.93 Q1180.26 1539.03 1182.06 1542.6 Q1183.89 1546.14 1187.5 1546.14 Q1191.14 1546.14 1192.94 1542.6 Q1194.77 1539.03 1194.77 1531.93 Q1194.77 1524.8 1192.94 1521.26 Q1191.14 1517.69 1187.5 1517.69 M1187.5 1513.99 Q1193.31 1513.99 1196.37 1518.59 Q1199.45 1523.18 1199.45 1531.93 Q1199.45 1540.65 1196.37 1545.26 Q1193.31 1549.84 1187.5 1549.84 Q1181.69 1549.84 1178.61 1545.26 Q1175.56 1540.65 1175.56 1531.93 Q1175.56 1523.18 1178.61 1518.59 Q1181.69 1513.99 1187.5 1513.99 Z\" fill=\"#000000\" fill-rule=\"evenodd\" fill-opacity=\"1\" /><path clip-path=\"url(#clip930)\" d=\"M 0 0 M1199.45 1508.09 L1223.56 1508.09 L1223.56 1511.29 L1199.45 1511.29 L1199.45 1508.09 Z\" fill=\"#000000\" fill-rule=\"evenodd\" fill-opacity=\"1\" /><path clip-path=\"url(#clip930)\" d=\"M 0 0 M1227.79 1521.18 L1227.79 1517.72 Q1229.22 1518.39 1230.69 1518.75 Q1232.15 1519.11 1233.56 1519.11 Q1237.32 1519.11 1239.3 1516.59 Q1241.29 1514.05 1241.58 1508.9 Q1240.48 1510.51 1238.81 1511.38 Q1237.14 1512.24 1235.11 1512.24 Q1230.89 1512.24 1228.43 1509.71 Q1225.98 1507.15 1225.98 1502.73 Q1225.98 1498.4 1228.54 1495.79 Q1231.1 1493.17 1235.35 1493.17 Q1240.22 1493.17 1242.78 1496.92 Q1245.36 1500.64 1245.36 1507.75 Q1245.36 1514.39 1242.2 1518.36 Q1239.06 1522.31 1233.73 1522.31 Q1232.3 1522.31 1230.84 1522.02 Q1229.37 1521.74 1227.79 1521.18 M1235.35 1509.27 Q1237.91 1509.27 1239.39 1507.52 Q1240.9 1505.77 1240.9 1502.73 Q1240.9 1499.7 1239.39 1497.95 Q1237.91 1496.18 1235.35 1496.18 Q1232.79 1496.18 1231.29 1497.95 Q1229.8 1499.7 1229.8 1502.73 Q1229.8 1505.77 1231.29 1507.52 Q1232.79 1509.27 1235.35 1509.27 Z\" fill=\"#000000\" fill-rule=\"evenodd\" fill-opacity=\"1\" /><path clip-path=\"url(#clip930)\" d=\"M 0 0 M1562.14 1545.24 L1569.78 1545.24 L1569.78 1518.87 L1561.47 1520.54 L1561.47 1516.28 L1569.73 1514.61 L1574.41 1514.61 L1574.41 1545.24 L1582.05 1545.24 L1582.05 1549.17 L1562.14 1549.17 L1562.14 1545.24 Z\" fill=\"#000000\" fill-rule=\"evenodd\" fill-opacity=\"1\" /><path clip-path=\"url(#clip930)\" d=\"M 0 0 M1597.12 1517.69 Q1593.51 1517.69 1591.68 1521.26 Q1589.87 1524.8 1589.87 1531.93 Q1589.87 1539.03 1591.68 1542.6 Q1593.51 1546.14 1597.12 1546.14 Q1600.75 1546.14 1602.56 1542.6 Q1604.39 1539.03 1604.39 1531.93 Q1604.39 1524.8 1602.56 1521.26 Q1600.75 1517.69 1597.12 1517.69 M1597.12 1513.99 Q1602.93 1513.99 1605.98 1518.59 Q1609.06 1523.18 1609.06 1531.93 Q1609.06 1540.65 1605.98 1545.26 Q1602.93 1549.84 1597.12 1549.84 Q1591.31 1549.84 1588.23 1545.26 Q1585.17 1540.65 1585.17 1531.93 Q1585.17 1523.18 1588.23 1518.59 Q1591.31 1513.99 1597.12 1513.99 Z\" fill=\"#000000\" fill-rule=\"evenodd\" fill-opacity=\"1\" /><path clip-path=\"url(#clip930)\" d=\"M 0 0 M1609.06 1508.09 L1633.17 1508.09 L1633.17 1511.29 L1609.06 1511.29 L1609.06 1508.09 Z\" fill=\"#000000\" fill-rule=\"evenodd\" fill-opacity=\"1\" /><path clip-path=\"url(#clip930)\" d=\"M 0 0 M1645.89 1506.21 Q1643.33 1506.21 1641.83 1507.96 Q1640.34 1509.71 1640.34 1512.75 Q1640.34 1515.78 1641.83 1517.55 Q1643.33 1519.3 1645.89 1519.3 Q1648.45 1519.3 1649.93 1517.55 Q1651.44 1515.78 1651.44 1512.75 Q1651.44 1509.71 1649.93 1507.96 Q1648.45 1506.21 1645.89 1506.21 M1653.43 1494.3 L1653.43 1497.76 Q1652 1497.09 1650.53 1496.73 Q1649.09 1496.37 1647.66 1496.37 Q1643.89 1496.37 1641.9 1498.91 Q1639.93 1501.45 1639.64 1506.58 Q1640.75 1504.95 1642.43 1504.08 Q1644.1 1503.2 1646.11 1503.2 Q1650.35 1503.2 1652.79 1505.77 Q1655.25 1508.33 1655.25 1512.75 Q1655.25 1517.08 1652.7 1519.69 Q1650.14 1522.31 1645.89 1522.31 Q1641.02 1522.31 1638.44 1518.58 Q1635.86 1514.84 1635.86 1507.75 Q1635.86 1501.09 1639.02 1497.14 Q1642.18 1493.17 1647.51 1493.17 Q1648.94 1493.17 1650.38 1493.46 Q1651.85 1493.74 1653.43 1494.3 Z\" fill=\"#000000\" fill-rule=\"evenodd\" fill-opacity=\"1\" /><path clip-path=\"url(#clip930)\" d=\"M 0 0 M1972.23 1545.24 L1979.87 1545.24 L1979.87 1518.87 L1971.56 1520.54 L1971.56 1516.28 L1979.82 1514.61 L1984.5 1514.61 L1984.5 1545.24 L1992.14 1545.24 L1992.14 1549.17 L1972.23 1549.17 L1972.23 1545.24 Z\" fill=\"#000000\" fill-rule=\"evenodd\" fill-opacity=\"1\" /><path clip-path=\"url(#clip930)\" d=\"M 0 0 M2007.21 1517.69 Q2003.59 1517.69 2001.77 1521.26 Q1999.96 1524.8 1999.96 1531.93 Q1999.96 1539.03 2001.77 1542.6 Q2003.59 1546.14 2007.21 1546.14 Q2010.84 1546.14 2012.65 1542.6 Q2014.47 1539.03 2014.47 1531.93 Q2014.47 1524.8 2012.65 1521.26 Q2010.84 1517.69 2007.21 1517.69 M2007.21 1513.99 Q2013.02 1513.99 2016.07 1518.59 Q2019.15 1523.18 2019.15 1531.93 Q2019.15 1540.65 2016.07 1545.26 Q2013.02 1549.84 2007.21 1549.84 Q2001.4 1549.84 1998.32 1545.26 Q1995.26 1540.65 1995.26 1531.93 Q1995.26 1523.18 1998.32 1518.59 Q2001.4 1513.99 2007.21 1513.99 Z\" fill=\"#000000\" fill-rule=\"evenodd\" fill-opacity=\"1\" /><path clip-path=\"url(#clip930)\" d=\"M 0 0 M2019.15 1508.09 L2043.26 1508.09 L2043.26 1511.29 L2019.15 1511.29 L2019.15 1508.09 Z\" fill=\"#000000\" fill-rule=\"evenodd\" fill-opacity=\"1\" /><path clip-path=\"url(#clip930)\" d=\"M 0 0 M2058.89 1506.62 Q2061.62 1507.2 2063.14 1509.05 Q2064.68 1510.89 2064.68 1513.6 Q2064.68 1517.76 2061.82 1520.03 Q2058.97 1522.31 2053.7 1522.31 Q2051.93 1522.31 2050.05 1521.95 Q2048.19 1521.61 2046.2 1520.92 L2046.2 1517.25 Q2047.78 1518.17 2049.66 1518.64 Q2051.54 1519.11 2053.59 1519.11 Q2057.16 1519.11 2059.02 1517.7 Q2060.9 1516.29 2060.9 1513.6 Q2060.9 1511.12 2059.15 1509.72 Q2057.42 1508.31 2054.32 1508.31 L2051.05 1508.31 L2051.05 1505.19 L2054.47 1505.19 Q2057.27 1505.19 2058.76 1504.08 Q2060.24 1502.95 2060.24 1500.85 Q2060.24 1498.68 2058.7 1497.54 Q2057.18 1496.37 2054.32 1496.37 Q2052.76 1496.37 2050.97 1496.71 Q2049.19 1497.05 2047.04 1497.76 L2047.04 1494.38 Q2049.2 1493.78 2051.09 1493.47 Q2052.98 1493.17 2054.66 1493.17 Q2058.98 1493.17 2061.5 1495.15 Q2064.03 1497.1 2064.03 1500.45 Q2064.03 1502.78 2062.69 1504.4 Q2061.35 1506 2058.89 1506.62 Z\" fill=\"#000000\" fill-rule=\"evenodd\" fill-opacity=\"1\" /><path clip-path=\"url(#clip930)\" d=\"M 0 0 M64.1336 1367.64 L71.7725 1367.64 L71.7725 1341.28 L63.4623 1342.94 L63.4623 1338.68 L71.7262 1337.02 L76.4021 1337.02 L76.4021 1367.64 L84.0409 1367.64 L84.0409 1371.58 L64.1336 1371.58 L64.1336 1367.64 Z\" fill=\"#000000\" fill-rule=\"evenodd\" fill-opacity=\"1\" /><path clip-path=\"url(#clip930)\" d=\"M 0 0 M99.1103 1340.1 Q95.4992 1340.1 93.6705 1343.66 Q91.8649 1347.2 91.8649 1354.33 Q91.8649 1361.44 93.6705 1365 Q95.4992 1368.55 99.1103 1368.55 Q102.745 1368.55 104.55 1365 Q106.379 1361.44 106.379 1354.33 Q106.379 1347.2 104.55 1343.66 Q102.745 1340.1 99.1103 1340.1 M99.1103 1336.39 Q104.92 1336.39 107.976 1341 Q111.055 1345.58 111.055 1354.33 Q111.055 1363.06 107.976 1367.67 Q104.92 1372.25 99.1103 1372.25 Q93.3001 1372.25 90.2214 1367.67 Q87.1659 1363.06 87.1659 1354.33 Q87.1659 1345.58 90.2214 1341 Q93.3001 1336.39 99.1103 1336.39 Z\" fill=\"#000000\" fill-rule=\"evenodd\" fill-opacity=\"1\" /><path clip-path=\"url(#clip930)\" d=\"M 0 0 M111.055 1330.49 L135.166 1330.49 L135.166 1333.69 L111.055 1333.69 L111.055 1330.49 Z\" fill=\"#000000\" fill-rule=\"evenodd\" fill-opacity=\"1\" /><path clip-path=\"url(#clip930)\" d=\"M 0 0 M147.41 1330.83 Q144.702 1330.83 143.141 1332.28 Q141.598 1333.73 141.598 1336.27 Q141.598 1338.81 143.141 1340.26 Q144.702 1341.7 147.41 1341.7 Q150.118 1341.7 151.679 1340.26 Q153.24 1338.79 153.24 1336.27 Q153.24 1333.73 151.679 1332.28 Q150.137 1330.83 147.41 1330.83 M143.611 1329.22 Q141.166 1328.61 139.793 1326.94 Q138.439 1325.27 138.439 1322.86 Q138.439 1319.49 140.827 1317.54 Q143.235 1315.58 147.41 1315.58 Q151.604 1315.58 153.993 1317.54 Q156.381 1319.49 156.381 1322.86 Q156.381 1325.27 155.008 1326.94 Q153.654 1328.61 151.228 1329.22 Q153.974 1329.85 155.497 1331.72 Q157.04 1333.58 157.04 1336.27 Q157.04 1340.35 154.538 1342.53 Q152.056 1344.71 147.41 1344.71 Q142.765 1344.71 140.263 1342.53 Q137.78 1340.35 137.78 1336.27 Q137.78 1333.58 139.323 1331.72 Q140.865 1329.85 143.611 1329.22 M142.219 1323.22 Q142.219 1325.4 143.573 1326.62 Q144.946 1327.84 147.41 1327.84 Q149.855 1327.84 151.228 1326.62 Q152.62 1325.4 152.62 1323.22 Q152.62 1321.03 151.228 1319.81 Q149.855 1318.59 147.41 1318.59 Q144.946 1318.59 143.573 1319.81 Q142.219 1321.03 142.219 1323.22 Z\" fill=\"#000000\" fill-rule=\"evenodd\" fill-opacity=\"1\" /><path clip-path=\"url(#clip930)\" d=\"M 0 0 M63.9267 1041.69 L71.5656 1041.69 L71.5656 1015.33 L63.2554 1016.99 L63.2554 1012.74 L71.5193 1011.07 L76.1952 1011.07 L76.1952 1041.69 L83.834 1041.69 L83.834 1045.63 L63.9267 1045.63 L63.9267 1041.69 Z\" fill=\"#000000\" fill-rule=\"evenodd\" fill-opacity=\"1\" /><path clip-path=\"url(#clip930)\" d=\"M 0 0 M98.9034 1014.15 Q95.2923 1014.15 93.4636 1017.71 Q91.6581 1021.25 91.6581 1028.38 Q91.6581 1035.49 93.4636 1039.06 Q95.2923 1042.6 98.9034 1042.6 Q102.538 1042.6 104.343 1039.06 Q106.172 1035.49 106.172 1028.38 Q106.172 1021.25 104.343 1017.71 Q102.538 1014.15 98.9034 1014.15 M98.9034 1010.44 Q104.714 1010.44 107.769 1015.05 Q110.848 1019.63 110.848 1028.38 Q110.848 1037.11 107.769 1041.72 Q104.714 1046.3 98.9034 1046.3 Q93.0932 1046.3 90.0146 1041.72 Q86.959 1037.11 86.959 1028.38 Q86.959 1019.63 90.0146 1015.05 Q93.0932 1010.44 98.9034 1010.44 Z\" fill=\"#000000\" fill-rule=\"evenodd\" fill-opacity=\"1\" /><path clip-path=\"url(#clip930)\" d=\"M 0 0 M110.848 1004.55 L134.959 1004.55 L134.959 1007.74 L110.848 1007.74 L110.848 1004.55 Z\" fill=\"#000000\" fill-rule=\"evenodd\" fill-opacity=\"1\" /><path clip-path=\"url(#clip930)\" d=\"M 0 0 M147.673 1002.66 Q145.116 1002.66 143.611 1004.41 Q142.125 1006.16 142.125 1009.21 Q142.125 1012.24 143.611 1014.01 Q145.116 1015.75 147.673 1015.75 Q150.231 1015.75 151.717 1014.01 Q153.222 1012.24 153.222 1009.21 Q153.222 1006.16 151.717 1004.41 Q150.231 1002.66 147.673 1002.66 M155.215 990.759 L155.215 994.22 Q153.786 993.543 152.319 993.186 Q150.871 992.828 149.441 992.828 Q145.68 992.828 143.686 995.367 Q141.711 997.906 141.429 1003.04 Q142.539 1001.4 144.213 1000.54 Q145.887 999.655 147.899 999.655 Q152.131 999.655 154.576 1002.23 Q157.04 1004.79 157.04 1009.21 Q157.04 1013.54 154.482 1016.15 Q151.924 1018.76 147.673 1018.76 Q142.802 1018.76 140.226 1015.04 Q137.649 1011.3 137.649 1004.21 Q137.649 997.549 140.809 993.599 Q143.968 989.631 149.291 989.631 Q150.72 989.631 152.168 989.913 Q153.635 990.195 155.215 990.759 Z\" fill=\"#000000\" fill-rule=\"evenodd\" fill-opacity=\"1\" /><path clip-path=\"url(#clip930)\" d=\"M 0 0 M63.6634 715.745 L71.3023 715.745 L71.3023 689.38 L62.9921 691.046 L62.9921 686.787 L71.256 685.12 L75.9319 685.12 L75.9319 715.745 L83.5707 715.745 L83.5707 719.68 L63.6634 719.68 L63.6634 715.745 Z\" fill=\"#000000\" fill-rule=\"evenodd\" fill-opacity=\"1\" /><path clip-path=\"url(#clip930)\" d=\"M 0 0 M98.6401 688.199 Q95.029 688.199 93.2003 691.764 Q91.3948 695.305 91.3948 702.435 Q91.3948 709.542 93.2003 713.106 Q95.029 716.648 98.6401 716.648 Q102.274 716.648 104.08 713.106 Q105.909 709.542 105.909 702.435 Q105.909 695.305 104.08 691.764 Q102.274 688.199 98.6401 688.199 M98.6401 684.495 Q104.45 684.495 107.506 689.102 Q110.584 693.685 110.584 702.435 Q110.584 711.162 107.506 715.768 Q104.45 720.352 98.6401 720.352 Q92.8299 720.352 89.7512 715.768 Q86.6957 711.162 86.6957 702.435 Q86.6957 693.685 89.7512 689.102 Q92.8299 684.495 98.6401 684.495 Z\" fill=\"#000000\" fill-rule=\"evenodd\" fill-opacity=\"1\" /><path clip-path=\"url(#clip930)\" d=\"M 0 0 M110.584 678.597 L134.696 678.597 L134.696 681.794 L110.584 681.794 L110.584 678.597 Z\" fill=\"#000000\" fill-rule=\"evenodd\" fill-opacity=\"1\" /><path clip-path=\"url(#clip930)\" d=\"M 0 0 M149.253 667.5 L139.661 682.49 L149.253 682.49 L149.253 667.5 M148.256 664.19 L153.034 664.19 L153.034 682.49 L157.04 682.49 L157.04 685.65 L153.034 685.65 L153.034 692.27 L149.253 692.27 L149.253 685.65 L136.577 685.65 L136.577 681.982 L148.256 664.19 Z\" fill=\"#000000\" fill-rule=\"evenodd\" fill-opacity=\"1\" /><path clip-path=\"url(#clip930)\" d=\"M 0 0 M65.3561 389.796 L72.995 389.796 L72.995 363.431 L64.6848 365.098 L64.6848 360.838 L72.9487 359.172 L77.6246 359.172 L77.6246 389.796 L85.2634 389.796 L85.2634 393.732 L65.3561 393.732 L65.3561 389.796 Z\" fill=\"#000000\" fill-rule=\"evenodd\" fill-opacity=\"1\" /><path clip-path=\"url(#clip930)\" d=\"M 0 0 M100.333 362.25 Q96.7217 362.25 94.893 365.815 Q93.0875 369.357 93.0875 376.486 Q93.0875 383.593 94.893 387.158 Q96.7217 390.699 100.333 390.699 Q103.967 390.699 105.773 387.158 Q107.601 383.593 107.601 376.486 Q107.601 369.357 105.773 365.815 Q103.967 362.25 100.333 362.25 M100.333 358.547 Q106.143 358.547 109.198 363.153 Q112.277 367.736 112.277 376.486 Q112.277 385.213 109.198 389.82 Q106.143 394.403 100.333 394.403 Q94.5226 394.403 91.4439 389.82 Q88.3884 385.213 88.3884 376.486 Q88.3884 367.736 91.4439 363.153 Q94.5226 358.547 100.333 358.547 Z\" fill=\"#000000\" fill-rule=\"evenodd\" fill-opacity=\"1\" /><path clip-path=\"url(#clip930)\" d=\"M 0 0 M112.277 352.648 L136.389 352.648 L136.389 355.845 L112.277 355.845 L112.277 352.648 Z\" fill=\"#000000\" fill-rule=\"evenodd\" fill-opacity=\"1\" /><path clip-path=\"url(#clip930)\" d=\"M 0 0 M143.78 363.124 L157.04 363.124 L157.04 366.321 L139.21 366.321 L139.21 363.124 Q141.373 360.886 145.097 357.124 Q148.839 353.344 149.799 352.253 Q151.623 350.203 152.338 348.792 Q153.071 347.363 153.071 345.99 Q153.071 343.752 151.491 342.341 Q149.93 340.931 147.41 340.931 Q145.623 340.931 143.63 341.551 Q141.655 342.172 139.398 343.432 L139.398 339.595 Q141.693 338.674 143.686 338.204 Q145.68 337.733 147.335 337.733 Q151.698 337.733 154.294 339.915 Q156.889 342.097 156.889 345.746 Q156.889 347.476 156.231 349.037 Q155.591 350.579 153.88 352.686 Q153.41 353.231 150.89 355.845 Q148.369 358.441 143.78 363.124 Z\" fill=\"#000000\" fill-rule=\"evenodd\" fill-opacity=\"1\" /><polyline clip-path=\"url(#clip932)\" style=\"stroke:#009af9; stroke-width:8; stroke-opacity:1; fill:none\" points=\"\n",
       "  2291.29,266.866 2154.71,431.13 2018.12,594.24 1881.53,757.228 1744.95,920.204 1608.36,1083.18 1471.78,1244.71 1335.19,1433.78 1198.6,1222.85 1062.02,1010.87 \n",
       "  925.433,844.442 788.847,723.477 652.261,554.875 515.675,440.243 379.089,342.212 242.503,87.6286 \n",
       "  \"/>\n",
       "<path clip-path=\"url(#clip932)\" d=\"M2291.29 298.866 L2268.67 289.49 L2259.29 266.866 L2268.67 244.242 L2291.29 234.866 L2313.92 244.242 L2323.29 266.866 L2313.92 289.49 Z\" fill=\"#009af9\" fill-rule=\"evenodd\" fill-opacity=\"1\" stroke=\"#000000\" stroke-opacity=\"1\" stroke-width=\"3.2\"/>\n",
       "<path clip-path=\"url(#clip932)\" d=\"M2154.71 463.13 L2132.08 453.754 L2122.71 431.13 L2132.08 408.506 L2154.71 399.13 L2177.33 408.506 L2186.71 431.13 L2177.33 453.754 Z\" fill=\"#009af9\" fill-rule=\"evenodd\" fill-opacity=\"1\" stroke=\"#000000\" stroke-opacity=\"1\" stroke-width=\"3.2\"/>\n",
       "<path clip-path=\"url(#clip932)\" d=\"M2018.12 626.24 L1995.5 616.864 L1986.12 594.24 L1995.5 571.616 L2018.12 562.24 L2040.74 571.616 L2050.12 594.24 L2040.74 616.864 Z\" fill=\"#009af9\" fill-rule=\"evenodd\" fill-opacity=\"1\" stroke=\"#000000\" stroke-opacity=\"1\" stroke-width=\"3.2\"/>\n",
       "<path clip-path=\"url(#clip932)\" d=\"M1881.53 789.228 L1858.91 779.852 L1849.53 757.228 L1858.91 734.604 L1881.53 725.228 L1904.16 734.604 L1913.53 757.228 L1904.16 779.852 Z\" fill=\"#009af9\" fill-rule=\"evenodd\" fill-opacity=\"1\" stroke=\"#000000\" stroke-opacity=\"1\" stroke-width=\"3.2\"/>\n",
       "<path clip-path=\"url(#clip932)\" d=\"M1744.95 952.204 L1722.32 942.828 L1712.95 920.204 L1722.32 897.58 L1744.95 888.204 L1767.57 897.58 L1776.95 920.204 L1767.57 942.828 Z\" fill=\"#009af9\" fill-rule=\"evenodd\" fill-opacity=\"1\" stroke=\"#000000\" stroke-opacity=\"1\" stroke-width=\"3.2\"/>\n",
       "<path clip-path=\"url(#clip932)\" d=\"M1608.36 1115.18 L1585.74 1105.8 L1576.36 1083.18 L1585.74 1060.55 L1608.36 1051.18 L1630.99 1060.55 L1640.36 1083.18 L1630.99 1105.8 Z\" fill=\"#009af9\" fill-rule=\"evenodd\" fill-opacity=\"1\" stroke=\"#000000\" stroke-opacity=\"1\" stroke-width=\"3.2\"/>\n",
       "<path clip-path=\"url(#clip932)\" d=\"M1471.78 1276.71 L1449.15 1267.34 L1439.78 1244.71 L1449.15 1222.09 L1471.78 1212.71 L1494.4 1222.09 L1503.78 1244.71 L1494.4 1267.34 Z\" fill=\"#009af9\" fill-rule=\"evenodd\" fill-opacity=\"1\" stroke=\"#000000\" stroke-opacity=\"1\" stroke-width=\"3.2\"/>\n",
       "<path clip-path=\"url(#clip932)\" d=\"M1335.19 1465.78 L1312.57 1456.4 L1303.19 1433.78 L1312.57 1411.16 L1335.19 1401.78 L1357.81 1411.16 L1367.19 1433.78 L1357.81 1456.4 Z\" fill=\"#009af9\" fill-rule=\"evenodd\" fill-opacity=\"1\" stroke=\"#000000\" stroke-opacity=\"1\" stroke-width=\"3.2\"/>\n",
       "<path clip-path=\"url(#clip932)\" d=\"M1198.6 1254.85 L1175.98 1245.47 L1166.6 1222.85 L1175.98 1200.22 L1198.6 1190.85 L1221.23 1200.22 L1230.6 1222.85 L1221.23 1245.47 Z\" fill=\"#009af9\" fill-rule=\"evenodd\" fill-opacity=\"1\" stroke=\"#000000\" stroke-opacity=\"1\" stroke-width=\"3.2\"/>\n",
       "<path clip-path=\"url(#clip932)\" d=\"M1062.02 1042.87 L1039.39 1033.49 L1030.02 1010.87 L1039.39 988.243 L1062.02 978.867 L1084.64 988.243 L1094.02 1010.87 L1084.64 1033.49 Z\" fill=\"#009af9\" fill-rule=\"evenodd\" fill-opacity=\"1\" stroke=\"#000000\" stroke-opacity=\"1\" stroke-width=\"3.2\"/>\n",
       "<path clip-path=\"url(#clip932)\" d=\"M925.433 876.442 L902.809 867.066 L893.433 844.442 L902.809 821.818 L925.433 812.442 L948.057 821.818 L957.433 844.442 L948.057 867.066 Z\" fill=\"#009af9\" fill-rule=\"evenodd\" fill-opacity=\"1\" stroke=\"#000000\" stroke-opacity=\"1\" stroke-width=\"3.2\"/>\n",
       "<path clip-path=\"url(#clip932)\" d=\"M788.847 755.477 L766.223 746.101 L756.847 723.477 L766.223 700.853 L788.847 691.477 L811.471 700.853 L820.847 723.477 L811.471 746.101 Z\" fill=\"#009af9\" fill-rule=\"evenodd\" fill-opacity=\"1\" stroke=\"#000000\" stroke-opacity=\"1\" stroke-width=\"3.2\"/>\n",
       "<path clip-path=\"url(#clip932)\" d=\"M652.261 586.875 L629.637 577.499 L620.261 554.875 L629.637 532.251 L652.261 522.875 L674.885 532.251 L684.261 554.875 L674.885 577.499 Z\" fill=\"#009af9\" fill-rule=\"evenodd\" fill-opacity=\"1\" stroke=\"#000000\" stroke-opacity=\"1\" stroke-width=\"3.2\"/>\n",
       "<path clip-path=\"url(#clip932)\" d=\"M515.675 472.243 L493.051 462.867 L483.675 440.243 L493.051 417.619 L515.675 408.243 L538.299 417.619 L547.675 440.243 L538.299 462.867 Z\" fill=\"#009af9\" fill-rule=\"evenodd\" fill-opacity=\"1\" stroke=\"#000000\" stroke-opacity=\"1\" stroke-width=\"3.2\"/>\n",
       "<path clip-path=\"url(#clip932)\" d=\"M379.089 374.212 L356.465 364.836 L347.089 342.212 L356.465 319.588 L379.089 310.212 L401.713 319.588 L411.089 342.212 L401.713 364.836 Z\" fill=\"#009af9\" fill-rule=\"evenodd\" fill-opacity=\"1\" stroke=\"#000000\" stroke-opacity=\"1\" stroke-width=\"3.2\"/>\n",
       "<path clip-path=\"url(#clip932)\" d=\"M242.503 119.629 L219.879 110.253 L210.503 87.6286 L219.879 65.0046 L242.503 55.6286 L265.127 65.0046 L274.503 87.6286 L265.127 110.253 Z\" fill=\"#009af9\" fill-rule=\"evenodd\" fill-opacity=\"1\" stroke=\"#000000\" stroke-opacity=\"1\" stroke-width=\"3.2\"/>\n",
       "<path clip-path=\"url(#clip930)\" d=\"\n",
       "M1988.05 215.768 L2280.37 215.768 L2280.37 94.8081 L1988.05 94.8081  Z\n",
       "  \" fill=\"#ffffff\" fill-rule=\"evenodd\" fill-opacity=\"1\"/>\n",
       "<polyline clip-path=\"url(#clip930)\" style=\"stroke:#000000; stroke-width:4; stroke-opacity:1; fill:none\" points=\"\n",
       "  1988.05,215.768 2280.37,215.768 2280.37,94.8081 1988.05,94.8081 1988.05,215.768 \n",
       "  \"/>\n",
       "<polyline clip-path=\"url(#clip930)\" style=\"stroke:#009af9; stroke-width:4; stroke-opacity:1; fill:none\" points=\"\n",
       "  2012.18,155.288 2156.96,155.288 \n",
       "  \"/>\n",
       "<path clip-path=\"url(#clip930)\" d=\"M2084.57 180.888 L2066.47 173.387 L2058.97 155.288 L2066.47 137.189 L2084.57 129.688 L2102.67 137.189 L2110.17 155.288 L2102.67 173.387 Z\" fill=\"#009af9\" fill-rule=\"evenodd\" fill-opacity=\"1\" stroke=\"#000000\" stroke-opacity=\"1\" stroke-width=\"2.56\"/>\n",
       "<path clip-path=\"url(#clip930)\" d=\"M 0 0 M2194.93 174.976 Q2193.12 179.605 2191.41 181.017 Q2189.7 182.429 2186.83 182.429 L2183.42 182.429 L2183.42 178.864 L2185.92 178.864 Q2187.68 178.864 2188.66 178.031 Q2189.63 177.198 2190.81 174.096 L2191.57 172.151 L2181.09 146.642 L2185.6 146.642 L2193.7 166.92 L2201.8 146.642 L2206.32 146.642 L2194.93 174.976 Z\" fill=\"#000000\" fill-rule=\"evenodd\" fill-opacity=\"1\" /><path clip-path=\"url(#clip930)\" d=\"M 0 0 M2212.2 168.633 L2219.84 168.633 L2219.84 142.267 L2211.53 143.934 L2211.53 139.675 L2219.79 138.008 L2224.47 138.008 L2224.47 168.633 L2232.11 168.633 L2232.11 172.568 L2212.2 172.568 L2212.2 168.633 Z\" fill=\"#000000\" fill-rule=\"evenodd\" fill-opacity=\"1\" /></svg>\n"
      ]
     },
     "metadata": {},
     "output_type": "display_data"
    },
    {
     "name": "stdout",
     "output_type": "stream",
     "text": [
      "---------|----------- \n",
      "    h    | error \n",
      "---------|----------- \n",
      " 1.0e-01 | 4.29e-02  \n",
      " 1.0e-02 | 4.22e-03  \n",
      " 1.0e-03 | 4.21e-04  \n",
      " 1.0e-04 | 4.21e-05  \n",
      " 1.0e-05 | 4.21e-06  \n",
      " 1.0e-06 | 4.21e-07  \n",
      " 1.0e-07 | 4.29e-08  \n",
      " 1.0e-08 | 2.97e-09  \n",
      " 1.0e-09 | 5.85e-08  \n",
      " 1.0e-10 | 1.17e-06  \n",
      " 1.0e-11 | 1.23e-05  \n",
      " 1.0e-12 | 6.78e-05  \n",
      " 1.0e-13 | 7.34e-04  \n",
      " 1.0e-14 | 3.71e-03  \n",
      " 1.0e-15 | 1.48e-02  \n",
      " 1.0e-16 | 5.40e-01  \n",
      "---------|----------- \n",
      "passed\n"
     ]
    },
    {
     "data": {
      "text/plain": [
       "true"
      ]
     },
     "execution_count": 5,
     "metadata": {},
     "output_type": "execute_result"
    }
   ],
   "source": [
    "f(x) = sin.(x)\n",
    "g(x) = cos.(x)\n",
    "x = [1.0]\n",
    "fdtest(f, g, x)"
   ]
  },
  {
   "cell_type": "markdown",
   "metadata": {
    "slideshow": {
     "slide_type": "slide"
    }
   },
   "source": [
    "## Top Ten Algorithms\n",
    "\n",
    "![test](wordcloud.png)\n",
    "\n",
    "\n",
    " * Newton and quasi-Newton methods,\n",
    " * Matrix factorizations (LU, Cholesky, QR)\n",
    " * SVD, QR and QZ algorithms,\n",
    " * Monte-Carlo methods,\n",
    " * Fast Fourier transform,\n",
    " * Krylov subspace methods,\n",
    " * JPEG,\n",
    " * PageRank,\n",
    " * Simplex method, and\n",
    " * Kalman filter. \n",
    "\n",
    "Honorable mentions: Bootstraping methods, fast multipole method, and quicksort. \n",
    "\n",
    "See more at [[Top Ten Algorithms from the 20th Century ]](http://pi.math.cornell.edu/~web6140/)"
   ]
  },
  {
   "cell_type": "markdown",
   "metadata": {},
   "source": [
    "# Ten Digit algorithms \n",
    "\n",
    "\n",
    "### pi_via_agm.m  \n",
    "Compute pi by arithmetic-geometric mean iteration               \n",
    "L. N. Trefethen 7/03            \n",
    "L. Zhang convert to Julia 10/20\n",
    "\n",
    "The AGM iteration for computing elliptic integrals goes back to Gauss.  In 1976 Brent (J. ACM) and independently Salamin (Math. Comp.) published AGM algorithms converging quadratically to pi. This code implements a variant due to Borwein and Borwein (SIAM Review 1984) given as Algorithm 2.1 in their 1987 book \"Pi and the AGM\".  The results are more dramatic in extended precision!  \n",
    "\n",
    "```julia\n",
    "let \n",
    "    y = sqrt(sqrt(2));  \n",
    "    x = (y+1/y)/2;  \n",
    "    p = 2+sqrt(2);  \n",
    "    for i = 1:10    \n",
    "        @printf(\"%21.20e  \\n\", p)\n",
    "        p = p*(1+x)/(1+y);    \n",
    "        s = sqrt(x);    \n",
    "        y = (y*s+1/s)/(1+y);    \n",
    "        x = (s+1/s)/2;  \n",
    "    end\n",
    "end\n",
    "```\n",
    "[[arithmetic–geometric mean]](https://en.wikipedia.org/wiki/Arithmetic%E2%80%93geometric_mean)\n",
    "\n",
    "[[ten digit algorithms]](https://people.maths.ox.ac.uk/trefethen/tda05.pdf)\n"
   ]
  },
  {
   "cell_type": "code",
   "execution_count": 15,
   "metadata": {},
   "outputs": [
    {
     "name": "stdout",
     "output_type": "stream",
     "text": [
      "3.41421356237309492343e+00  \n",
      "3.14260675394162269924e+00  \n",
      "3.14159266096604383733e+00  \n",
      "3.14159265358979311600e+00  \n",
      "3.14159265358979311600e+00  \n",
      "3.14159265358979311600e+00  \n",
      "3.14159265358979311600e+00  \n",
      "3.14159265358979311600e+00  \n",
      "3.14159265358979311600e+00  \n",
      "3.14159265358979311600e+00  \n"
     ]
    }
   ],
   "source": [
    "let \n",
    "    y = sqrt(sqrt(2));  \n",
    "    x = (y+1/y)/2;  \n",
    "    p = 2+sqrt(2);  \n",
    "    for i = 1:10    \n",
    "        @printf(\"%21.20e  \\n\", p)\n",
    "        p = p*(1+x)/(1+y);    \n",
    "        s = sqrt(x);    \n",
    "        y = (y*s+1/s)/(1+y);    \n",
    "        x = (s+1/s)/2;  \n",
    "    end\n",
    "end\n"
   ]
  },
  {
   "cell_type": "markdown",
   "metadata": {
    "nbpresent": {
     "id": "392e734a-b065-4d8b-819b-d1fdc9219aba"
    },
    "slideshow": {
     "slide_type": "slide"
    }
   },
   "source": [
    "# Solving Linear System $Ax = b$ \n",
    "\n",
    "## Direct Method\n",
    "* stability analysis\n",
    "* Gauss Eliminination, LU factorization and other facorizations\n",
    "* banded, block, and sparse systems\n",
    "* accuracy, condition number $\\kappa(A)$, etc\n",
    "\n",
    "[[Gauss Elimination with Julia]](http://web.mit.edu/18.06/www/Spring17/Gaussian-elimination.pdf)\n",
    "\n",
    "## Iterative Method\n",
    "* convergence\n",
    "* linear methods (Gauss-Seidel, Jacobi, SOR...)\n",
    "* stationary & nonstationary methods, Richardson, gradient, conjugate gradient, preconditioning\n",
    "* Krylov subspace iterations, Lanczos\n",
    "* stopping criteria"
   ]
  },
  {
   "cell_type": "markdown",
   "metadata": {
    "slideshow": {
     "slide_type": "slide"
    }
   },
   "source": [
    "*[[九章算术中的高斯消去法]](https://highscope.ch.ntu.edu.tw/wordpress/?p=14177) \n",
    "\n",
    "*[[中国古代的机械化算法]](https://www.bilibili.com/video/av456904600/)\n",
    "\n"
   ]
  },
  {
   "cell_type": "markdown",
   "metadata": {
    "nbpresent": {
     "id": "53ecfccf-310c-4a14-82b8-714a530be6f7"
    }
   },
   "source": [
    "# Approximate Eigenvalue and Eigenvectors $Ax = \\lambda x$\n",
    "\n",
    "* properties of eigenvalues\n",
    "* stability & conditioning analysis\n",
    "* power method \n",
    "* QR iteration, Householder & Givens tranforms, shifting\n",
    "* methods for symmetric matrices, Jacobi, Sturm sequences, Lanczos\n",
    "\n",
    "\n"
   ]
  },
  {
   "cell_type": "code",
   "execution_count": 6,
   "metadata": {
    "nbpresent": {
     "id": "4f028069-4ab7-4f3a-b604-e54d8d996c5d"
    }
   },
   "outputs": [
    {
     "data": {
      "image/jpeg": "[encoded data removed]",
      "text/html": [
       "\n",
       "        <iframe\n",
       "            width=\"400\"\n",
       "            height=\"300\"\n",
       "            src=\"https://www.youtube.com/embed/d32WV1rKoVk\"\n",
       "            frameborder=\"0\"\n",
       "            allowfullscreen\n",
       "        ></iframe>\n",
       "        "
      ],
      "text/plain": [
       "PyObject <IPython.lib.display.YouTubeVideo object at 0x7ff0e0333670>"
      ]
     },
     "execution_count": 6,
     "metadata": {},
     "output_type": "execute_result"
    }
   ],
   "source": [
    "YouTubeVideo(\"d32WV1rKoVk\")"
   ]
  },
  {
   "cell_type": "markdown",
   "metadata": {
    "nbpresent": {
     "id": "7ef71e55-e7ae-4dcb-b472-14ffc4b124bc"
    },
    "slideshow": {
     "slide_type": "slide"
    }
   },
   "source": [
    "# Nonlinear Equations, Nonlinear Systems, and Numerical Optimization\n",
    "\n",
    "## $f(x) = 0$\n",
    "\n",
    "* root finding\n",
    "\n",
    "[[Root finding functions for Julia]](https://github.com/JuliaMath/Roots.jl)\n",
    "\n",
    "## $F(x) = 0$ \n",
    "\n",
    "* Newton, quasi-Newton, etc.\n",
    "\n",
    "## $\\min_{x\\in \\Omega} f(x)$ \n",
    "\n",
    "* direct search\n",
    "* line search\n",
    "* descent method, Newton like method, etc.\n",
    "* constraints\n",
    "\n",
    "[[Newton Raphson in Julia]](https://mmas.github.io/newton-julia)\n"
   ]
  },
  {
   "cell_type": "markdown",
   "metadata": {
    "nbpresent": {
     "id": "5f85cc00-1186-4d02-a046-4236884d41c3"
    },
    "slideshow": {
     "slide_type": "slide"
    }
   },
   "source": [
    "# Polynomial Interpolation, Numerical Integration and Approximation Theory\n",
    "\n",
    "* Interpolation error & stability\n",
    "* Quadrature formulae & automatic integration\n",
    "* Orthogonal polynomials, least squares, Fourier transform\n",
    "* Neural network approximation\n",
    "\n"
   ]
  },
  {
   "cell_type": "markdown",
   "metadata": {
    "nbpresent": {
     "id": "abff851c-2928-4265-a927-30edf260653f"
    },
    "slideshow": {
     "slide_type": "slide"
    }
   },
   "source": [
    "# Numerical Solution of Ordinary Differential Equations\n",
    "\n",
    "* One-step methods, stability & convergence analysis\n",
    "* Multistep methods, difference equations, stability & convergence analysis\n",
    "* Predictor-corrector methods\n",
    "* Runge-Kutta methods\n",
    "* Stiff Problems"
   ]
  },
  {
   "cell_type": "code",
   "execution_count": 8,
   "metadata": {
    "nbpresent": {
     "id": "aa63ffd0-0bd3-44f4-ae23-9c66942711b6"
    },
    "slideshow": {
     "slide_type": "slide"
    }
   },
   "outputs": [
    {
     "data": {
      "image/jpeg": "[encoded data removed]",
      "text/html": [
       "\n",
       "        <iframe\n",
       "            width=\"400\"\n",
       "            height=\"300\"\n",
       "            src=\"https://www.youtube.com/embed/dbBmSBA7Kyw\"\n",
       "            frameborder=\"0\"\n",
       "            allowfullscreen\n",
       "        ></iframe>\n",
       "        "
      ],
      "text/plain": [
       "PyObject <IPython.lib.display.YouTubeVideo object at 0x7ff0fce11d90>"
      ]
     },
     "execution_count": 8,
     "metadata": {},
     "output_type": "execute_result"
    }
   ],
   "source": [
    "YouTubeVideo(\"dbBmSBA7Kyw\")    # spread of covid-19\n"
   ]
  },
  {
   "cell_type": "markdown",
   "metadata": {
    "nbpresent": {
     "id": "09c2c422-67d9-4ae9-a4af-92e183e98337"
    },
    "slideshow": {
     "slide_type": "slide"
    }
   },
   "source": [
    "Molecular Dynamics: (or more general Hamiltonian dynamics)\n",
    "$$ \n",
    "    m_n \\ddot{r_n} = - \\nabla E(r_1, \\dots, r_N)\n",
    "$$"
   ]
  },
  {
   "cell_type": "code",
   "execution_count": 9,
   "metadata": {
    "nbpresent": {
     "id": "37f43655-a11b-4d44-9c29-9fa0eedfca9d"
    },
    "scrolled": true,
    "slideshow": {
     "slide_type": "fragment"
    }
   },
   "outputs": [
    {
     "data": {
      "image/jpeg": "[encoded data removed]",
      "text/html": [
       "\n",
       "        <iframe\n",
       "            width=\"400\"\n",
       "            height=\"300\"\n",
       "            src=\"https://www.youtube.com/embed/3xaZwbKyYdM\"\n",
       "            frameborder=\"0\"\n",
       "            allowfullscreen\n",
       "        ></iframe>\n",
       "        "
      ],
      "text/plain": [
       "PyObject <IPython.lib.display.YouTubeVideo object at 0x7ff0fce11c10>"
      ]
     },
     "execution_count": 9,
     "metadata": {},
     "output_type": "execute_result"
    }
   ],
   "source": [
    "YouTubeVideo(\"3xaZwbKyYdM\")    # ice melting"
   ]
  },
  {
   "cell_type": "markdown",
   "metadata": {
    "nbpresent": {
     "id": "11acbe21-6b5b-4584-9b0c-f4a2d2f79037"
    },
    "slideshow": {
     "slide_type": "slide"
    }
   },
   "source": []
  },
  {
   "cell_type": "code",
   "execution_count": 10,
   "metadata": {
    "nbpresent": {
     "id": "56a268d0-362c-41a6-ae75-b1a630693afe"
    },
    "slideshow": {
     "slide_type": "fragment"
    }
   },
   "outputs": [
    {
     "data": {
      "image/jpeg": "[encoded data removed]",
      "text/html": [
       "\n",
       "        <iframe\n",
       "            width=\"400\"\n",
       "            height=\"300\"\n",
       "            src=\"https://www.youtube.com/embed/Bz8tT4-bV2w\"\n",
       "            frameborder=\"0\"\n",
       "            allowfullscreen\n",
       "        ></iframe>\n",
       "        "
      ],
      "text/plain": [
       "PyObject <IPython.lib.display.YouTubeVideo object at 0x7ff0fcdfc700>"
      ]
     },
     "execution_count": 10,
     "metadata": {},
     "output_type": "execute_result"
    }
   ],
   "source": []
  }
 ],
 "metadata": {
  "@webio": {
   "lastCommId": null,
   "lastKernelId": null
  },
  "anaconda-cloud": {},
  "celltoolbar": "Slideshow",
  "kernelspec": {
   "display_name": "Julia 1.3.1",
   "language": "julia",
   "name": "julia-1.3"
  },
  "language_info": {
   "file_extension": ".jl",
   "mimetype": "application/julia",
   "name": "julia",
   "version": "1.3.1"
  },
  "latex_envs": {
   "LaTeX_envs_menu_present": true,
   "autoclose": false,
   "autocomplete": true,
   "bibliofile": "biblio.bib",
   "cite_by": "apalike",
   "current_citInitial": 1,
   "eqLabelWithNumbers": true,
   "eqNumInitial": 1,
   "hotkeys": {
    "equation": "Ctrl-E",
    "itemize": "Ctrl-I"
   },
   "labels_anchors": false,
   "latex_user_defs": false,
   "report_style_numbering": false,
   "user_envs_cfg": false
  },
  "nbpresent": {
   "slides": {
    "07296fc8-e85e-4949-85b4-c0ef8861e461": {
     "id": "07296fc8-e85e-4949-85b4-c0ef8861e461",
     "prev": "53c19b03-6556-4dd9-8aa8-79fdfdf8e3a3",
     "regions": {
      "1c023c88-3c25-4ba2-a6fb-481d1d97d511": {
       "attrs": {
        "height": 0.8,
        "width": 0.8,
        "x": 0.1,
        "y": 0.1
       },
       "content": {
        "cell": "4b7aad1e-53b6-492e-bff5-77d2ea999a45",
        "part": "whole"
       },
       "id": "1c023c88-3c25-4ba2-a6fb-481d1d97d511"
      }
     }
    },
    "1280a0eb-ca9a-4b57-b83e-76f63e2df1b6": {
     "id": "1280a0eb-ca9a-4b57-b83e-76f63e2df1b6",
     "prev": "21da90ea-7c6a-4861-8b45-c070a94e2a58",
     "regions": {
      "8d21ed5d-de3d-4e81-9e08-84e9b3da1a0e": {
       "attrs": {
        "height": 0.8,
        "width": 0.8,
        "x": 0.1,
        "y": 0.1
       },
       "content": {
        "cell": "89ca3ee6-21a9-4643-909e-9fa3fac42104",
        "part": "whole"
       },
       "id": "8d21ed5d-de3d-4e81-9e08-84e9b3da1a0e"
      }
     }
    },
    "1523e0d8-d69d-44d5-b46f-1ee60642188d": {
     "id": "1523e0d8-d69d-44d5-b46f-1ee60642188d",
     "prev": "6c587791-435e-4d07-8ff8-8e6fb0e339ba",
     "regions": {
      "e149db7f-8f44-40bd-80e2-72e719dd1e01": {
       "attrs": {
        "height": 0.8,
        "width": 0.8,
        "x": 0.1,
        "y": 0.1
       },
       "content": {
        "cell": "65730fdf-d61d-4f0c-966e-2fec5276f216",
        "part": "whole"
       },
       "id": "e149db7f-8f44-40bd-80e2-72e719dd1e01"
      }
     }
    },
    "197f7063-aee7-47d5-9eaf-579db02fa502": {
     "id": "197f7063-aee7-47d5-9eaf-579db02fa502",
     "prev": "6f75dc77-c2a1-4a1d-8479-0cf0d4183edd",
     "regions": {
      "e89504a1-2410-4980-809e-4bb52a5938d9": {
       "attrs": {
        "height": 0.8,
        "width": 0.8,
        "x": 0.1,
        "y": 0.1
       },
       "content": {
        "cell": "d6116b53-74e8-4e2a-adac-e85067761fcf",
        "part": "whole"
       },
       "id": "e89504a1-2410-4980-809e-4bb52a5938d9"
      }
     }
    },
    "1fa2b3c7-c92a-45d8-881c-45e3f357b382": {
     "id": "1fa2b3c7-c92a-45d8-881c-45e3f357b382",
     "prev": "1523e0d8-d69d-44d5-b46f-1ee60642188d",
     "regions": {
      "78a4a24c-0f2e-4885-a156-6a372913f490": {
       "attrs": {
        "height": 0.8,
        "width": 0.8,
        "x": 0.1,
        "y": 0.1
       },
       "content": {
        "cell": "aa63ffd0-0bd3-44f4-ae23-9c66942711b6",
        "part": "whole"
       },
       "id": "78a4a24c-0f2e-4885-a156-6a372913f490"
      }
     }
    },
    "20219a33-3a04-4541-b11c-c1c5e9a0256a": {
     "id": "20219a33-3a04-4541-b11c-c1c5e9a0256a",
     "prev": "2038ddd3-7296-4abe-a7f6-6e2959ec0525",
     "regions": {
      "a2eb6a92-f217-4284-85fe-bd0ea0713e74": {
       "attrs": {
        "height": 0.8,
        "width": 0.8,
        "x": 0.1,
        "y": 0.1
       },
       "content": {
        "cell": "f99314fd-c6f2-487a-bf84-f6fd1e2f61b1",
        "part": "whole"
       },
       "id": "a2eb6a92-f217-4284-85fe-bd0ea0713e74"
      }
     }
    },
    "2038ddd3-7296-4abe-a7f6-6e2959ec0525": {
     "id": "2038ddd3-7296-4abe-a7f6-6e2959ec0525",
     "prev": "07296fc8-e85e-4949-85b4-c0ef8861e461",
     "regions": {
      "84ba8a28-f307-45eb-b2b1-6d6695f1ad53": {
       "attrs": {
        "height": 0.8,
        "width": 0.8,
        "x": 0.1,
        "y": 0.1
       },
       "content": {
        "cell": "aa932dcb-33d8-4618-a910-a83041cca3ab",
        "part": "whole"
       },
       "id": "84ba8a28-f307-45eb-b2b1-6d6695f1ad53"
      }
     }
    },
    "21da90ea-7c6a-4861-8b45-c070a94e2a58": {
     "id": "21da90ea-7c6a-4861-8b45-c070a94e2a58",
     "prev": "6b6e0daa-b0b2-46b4-8636-c1c44796a847",
     "regions": {
      "917da7d8-04dc-42f9-9ee3-f03caa079daa": {
       "attrs": {
        "height": 0.8,
        "width": 0.8,
        "x": 0.1,
        "y": 0.1
       },
       "content": {
        "cell": "37f43655-a11b-4d44-9c29-9fa0eedfca9d",
        "part": "whole"
       },
       "id": "917da7d8-04dc-42f9-9ee3-f03caa079daa"
      }
     }
    },
    "2e23d396-15a5-442d-910d-3d7294ac8b0f": {
     "id": "2e23d396-15a5-442d-910d-3d7294ac8b0f",
     "prev": "7c0f7d50-26cf-4acf-bfa6-2b3c767922fb",
     "regions": {
      "a414a121-ae28-485e-8444-04636b49976d": {
       "attrs": {
        "height": 0.8,
        "width": 0.8,
        "x": 0.1,
        "y": 0.1
       },
       "content": {
        "cell": "7ef71e55-e7ae-4dcb-b472-14ffc4b124bc",
        "part": "whole"
       },
       "id": "a414a121-ae28-485e-8444-04636b49976d"
      }
     }
    },
    "53c19b03-6556-4dd9-8aa8-79fdfdf8e3a3": {
     "id": "53c19b03-6556-4dd9-8aa8-79fdfdf8e3a3",
     "prev": "fb194386-00c9-4713-becd-97e12237d480",
     "regions": {
      "edd236c8-d962-4554-a841-ed983509fd1e": {
       "attrs": {
        "height": 0.8,
        "width": 0.8,
        "x": 0.1,
        "y": 0.1
       },
       "content": {
        "cell": "09b18283-a169-4fb7-bd4a-128028c30af0",
        "part": "whole"
       },
       "id": "edd236c8-d962-4554-a841-ed983509fd1e"
      }
     }
    },
    "53dfd3ec-c927-444a-9dc9-c518966cac56": {
     "id": "53dfd3ec-c927-444a-9dc9-c518966cac56",
     "prev": "20219a33-3a04-4541-b11c-c1c5e9a0256a",
     "regions": {
      "bbcebff7-3905-4e10-810a-57afb6f70fe5": {
       "attrs": {
        "height": 0.8,
        "width": 0.8,
        "x": 0.1,
        "y": 0.1
       },
       "content": {
        "cell": "80f6149d-7f6a-44b1-b004-89add4ab25e0",
        "part": "whole"
       },
       "id": "bbcebff7-3905-4e10-810a-57afb6f70fe5"
      }
     }
    },
    "56d2ae18-a1c1-44e6-9f76-a4bba36e58f1": {
     "id": "56d2ae18-a1c1-44e6-9f76-a4bba36e58f1",
     "prev": "ee00e973-e46c-4856-8ac0-3148fd2dc2d1",
     "regions": {
      "cbc70c5e-30c4-4a4a-b9dd-8a66a4db1a9f": {
       "attrs": {
        "height": 0.8,
        "width": 0.8,
        "x": 0.1,
        "y": 0.1
       },
       "content": {
        "cell": "56a268d0-362c-41a6-ae75-b1a630693afe",
        "part": "whole"
       },
       "id": "cbc70c5e-30c4-4a4a-b9dd-8a66a4db1a9f"
      }
     }
    },
    "5d044d38-fa3c-4e66-9094-798950a1f030": {
     "id": "5d044d38-fa3c-4e66-9094-798950a1f030",
     "prev": "53dfd3ec-c927-444a-9dc9-c518966cac56",
     "regions": {
      "33bf9f0a-5448-4fd8-9ef9-e7fca1037d32": {
       "attrs": {
        "height": 0.8,
        "width": 0.8,
        "x": 0.1,
        "y": 0.1
       },
       "content": {
        "cell": "392e734a-b065-4d8b-819b-d1fdc9219aba",
        "part": "whole"
       },
       "id": "33bf9f0a-5448-4fd8-9ef9-e7fca1037d32"
      }
     }
    },
    "69f1d207-1b02-4682-b4eb-68f602efe831": {
     "id": "69f1d207-1b02-4682-b4eb-68f602efe831",
     "prev": "af6a9b16-49c1-4df3-8893-ce734056c013",
     "regions": {
      "de08479a-0893-4c0f-8cad-5f5950385952": {
       "attrs": {
        "height": 0.8,
        "width": 0.8,
        "x": 0.1,
        "y": 0.1
       },
       "content": {
        "cell": "a04b15ca-8df2-4f77-b6a3-2e8d4e4e2e8c",
        "part": "whole"
       },
       "id": "de08479a-0893-4c0f-8cad-5f5950385952"
      }
     }
    },
    "6b6e0daa-b0b2-46b4-8636-c1c44796a847": {
     "id": "6b6e0daa-b0b2-46b4-8636-c1c44796a847",
     "prev": "1fa2b3c7-c92a-45d8-881c-45e3f357b382",
     "regions": {
      "c88f2e30-2526-4f8a-9805-e0c4a94fef42": {
       "attrs": {
        "height": 0.8,
        "width": 0.8,
        "x": 0.1,
        "y": 0.1
       },
       "content": {
        "cell": "09c2c422-67d9-4ae9-a4af-92e183e98337",
        "part": "whole"
       },
       "id": "c88f2e30-2526-4f8a-9805-e0c4a94fef42"
      }
     }
    },
    "6c587791-435e-4d07-8ff8-8e6fb0e339ba": {
     "id": "6c587791-435e-4d07-8ff8-8e6fb0e339ba",
     "prev": "f117099e-003e-4ee8-9b6f-1c35c0d80774",
     "regions": {
      "56b67338-494a-4bdd-bae8-265c7095d48d": {
       "attrs": {
        "height": 0.8,
        "width": 0.8,
        "x": 0.1,
        "y": 0.1
       },
       "content": {
        "cell": "abff851c-2928-4265-a927-30edf260653f",
        "part": "whole"
       },
       "id": "56b67338-494a-4bdd-bae8-265c7095d48d"
      }
     }
    },
    "6f75dc77-c2a1-4a1d-8479-0cf0d4183edd": {
     "id": "6f75dc77-c2a1-4a1d-8479-0cf0d4183edd",
     "prev": "69f1d207-1b02-4682-b4eb-68f602efe831",
     "regions": {
      "24291437-1669-46a4-97d0-cefbe98190fb": {
       "attrs": {
        "height": 0.8,
        "width": 0.8,
        "x": 0.1,
        "y": 0.1
       },
       "content": {
        "cell": "bcf559e7-a59f-4296-81c0-1a0ec7aee10c",
        "part": "whole"
       },
       "id": "24291437-1669-46a4-97d0-cefbe98190fb"
      }
     }
    },
    "7c0f7d50-26cf-4acf-bfa6-2b3c767922fb": {
     "id": "7c0f7d50-26cf-4acf-bfa6-2b3c767922fb",
     "prev": "b22cfe94-3a3d-4cf4-b64f-11bc27c913e7",
     "regions": {
      "c49957bc-f639-43f2-9043-0d8fd15a9064": {
       "attrs": {
        "height": 0.8,
        "width": 0.8,
        "x": 0.1,
        "y": 0.1
       },
       "content": {
        "cell": "4f028069-4ab7-4f3a-b604-e54d8d996c5d",
        "part": "whole"
       },
       "id": "c49957bc-f639-43f2-9043-0d8fd15a9064"
      }
     }
    },
    "acf4ae43-4bc1-4046-a4d9-3d75e3d309a1": {
     "id": "acf4ae43-4bc1-4046-a4d9-3d75e3d309a1",
     "prev": "56d2ae18-a1c1-44e6-9f76-a4bba36e58f1",
     "regions": {
      "a72c71ba-5c7a-4f79-ae90-9c3ea5bd5ec8": {
       "attrs": {
        "height": 0.8,
        "width": 0.8,
        "x": 0.1,
        "y": 0.1
       },
       "content": {
        "cell": "54df7969-c0e4-4d74-b7ed-6c5fc4132d89",
        "part": "whole"
       },
       "id": "a72c71ba-5c7a-4f79-ae90-9c3ea5bd5ec8"
      }
     }
    },
    "af6a9b16-49c1-4df3-8893-ce734056c013": {
     "id": "af6a9b16-49c1-4df3-8893-ce734056c013",
     "prev": "cc3dfd17-757e-4cf8-a64e-ef7b46dafb3d",
     "regions": {
      "6028780d-c2ca-4d54-ad1a-5af347a19676": {
       "attrs": {
        "height": 0.8,
        "width": 0.8,
        "x": 0.1,
        "y": 0.1
       },
       "content": {
        "cell": "3846a6c9-ab65-4b9f-b15e-1a9ac2586415",
        "part": "whole"
       },
       "id": "6028780d-c2ca-4d54-ad1a-5af347a19676"
      }
     }
    },
    "b22cfe94-3a3d-4cf4-b64f-11bc27c913e7": {
     "id": "b22cfe94-3a3d-4cf4-b64f-11bc27c913e7",
     "prev": "5d044d38-fa3c-4e66-9094-798950a1f030",
     "regions": {
      "6d0eb448-7020-43f7-8c26-ff1c01c068ea": {
       "attrs": {
        "height": 0.8,
        "width": 0.8,
        "x": 0.1,
        "y": 0.1
       },
       "content": {
        "cell": "53ecfccf-310c-4a14-82b8-714a530be6f7",
        "part": "whole"
       },
       "id": "6d0eb448-7020-43f7-8c26-ff1c01c068ea"
      }
     }
    },
    "b495ced1-86de-4610-9301-4f698bdf4ef2": {
     "id": "b495ced1-86de-4610-9301-4f698bdf4ef2",
     "prev": "e3d1a257-55e1-4971-90b7-147cf800f45f",
     "regions": {
      "d3d2b15b-1546-4325-8046-f81ff02a920c": {
       "attrs": {
        "height": 0.8,
        "width": 0.8,
        "x": 0.1,
        "y": 0.1
       },
       "content": {
        "cell": "89427a37-2d4d-463e-9fea-4694385deef9",
        "part": "whole"
       },
       "id": "d3d2b15b-1546-4325-8046-f81ff02a920c"
      }
     }
    },
    "cc3dfd17-757e-4cf8-a64e-ef7b46dafb3d": {
     "id": "cc3dfd17-757e-4cf8-a64e-ef7b46dafb3d",
     "prev": "ed41d382-4944-4788-9f8e-794e7692d5ba",
     "regions": {
      "20eea4fb-5228-4fb5-8c4b-a13b26db8fd7": {
       "attrs": {
        "height": 0.8,
        "width": 0.8,
        "x": 0.1,
        "y": 0.1
       },
       "content": {
        "cell": "6f45b837-f9e3-4840-8c2a-35d7fa442844",
        "part": "whole"
       },
       "id": "20eea4fb-5228-4fb5-8c4b-a13b26db8fd7"
      }
     }
    },
    "e3d1a257-55e1-4971-90b7-147cf800f45f": {
     "id": "e3d1a257-55e1-4971-90b7-147cf800f45f",
     "prev": "acf4ae43-4bc1-4046-a4d9-3d75e3d309a1",
     "regions": {
      "33f50d48-5c46-49a6-a1a0-7103125d029e": {
       "attrs": {
        "height": 0.8,
        "width": 0.8,
        "x": 0.1,
        "y": 0.1
       },
       "content": {
        "cell": "cecf1952-834f-4929-9073-f2947a2f641f",
        "part": "whole"
       },
       "id": "33f50d48-5c46-49a6-a1a0-7103125d029e"
      }
     }
    },
    "e7fb5fbd-5baa-45e8-bff4-d9f8a2f99d82": {
     "id": "e7fb5fbd-5baa-45e8-bff4-d9f8a2f99d82",
     "prev": "b495ced1-86de-4610-9301-4f698bdf4ef2",
     "regions": {
      "5c14e07c-f094-4581-a200-31b5bb6f0089": {
       "attrs": {
        "height": 0.8,
        "width": 0.8,
        "x": 0.1,
        "y": 0.1
       },
       "content": {
        "cell": "c790ceb7-aae6-4da4-bdba-54015fb6485e",
        "part": "whole"
       },
       "id": "5c14e07c-f094-4581-a200-31b5bb6f0089"
      }
     }
    },
    "ed41d382-4944-4788-9f8e-794e7692d5ba": {
     "id": "ed41d382-4944-4788-9f8e-794e7692d5ba",
     "prev": "e7fb5fbd-5baa-45e8-bff4-d9f8a2f99d82",
     "regions": {
      "b7b27d78-0c99-4cb3-952a-e605df379b5b": {
       "attrs": {
        "height": 0.8,
        "width": 0.8,
        "x": 0.1,
        "y": 0.1
       },
       "content": {
        "cell": "86f2b4da-d6f7-41b0-959a-099e5f823411",
        "part": "whole"
       },
       "id": "b7b27d78-0c99-4cb3-952a-e605df379b5b"
      }
     }
    },
    "ee00e973-e46c-4856-8ac0-3148fd2dc2d1": {
     "id": "ee00e973-e46c-4856-8ac0-3148fd2dc2d1",
     "prev": "ef2560c1-936a-42bd-af8e-c315d9221da1",
     "regions": {
      "9c5f7ba1-fd4e-4343-ac96-eca26f8cf6dc": {
       "attrs": {
        "height": 0.8,
        "width": 0.8,
        "x": 0.1,
        "y": 0.1
       },
       "content": {
        "cell": "11acbe21-6b5b-4584-9b0c-f4a2d2f79037",
        "part": "whole"
       },
       "id": "9c5f7ba1-fd4e-4343-ac96-eca26f8cf6dc"
      }
     }
    },
    "ef2560c1-936a-42bd-af8e-c315d9221da1": {
     "id": "ef2560c1-936a-42bd-af8e-c315d9221da1",
     "prev": "1280a0eb-ca9a-4b57-b83e-76f63e2df1b6",
     "regions": {
      "e6f72f64-8b8a-43c4-930a-7de07837b05f": {
       "attrs": {
        "height": 0.8,
        "width": 0.8,
        "x": 0.1,
        "y": 0.1
       },
       "content": {
        "cell": "1602675c-710d-48e8-a849-bc85ce4250c8",
        "part": "whole"
       },
       "id": "e6f72f64-8b8a-43c4-930a-7de07837b05f"
      }
     }
    },
    "f117099e-003e-4ee8-9b6f-1c35c0d80774": {
     "id": "f117099e-003e-4ee8-9b6f-1c35c0d80774",
     "prev": "2e23d396-15a5-442d-910d-3d7294ac8b0f",
     "regions": {
      "50861627-9d07-4a73-bb74-75dab971d499": {
       "attrs": {
        "height": 0.8,
        "width": 0.8,
        "x": 0.1,
        "y": 0.1
       },
       "content": {
        "cell": "5f85cc00-1186-4d02-a046-4236884d41c3",
        "part": "whole"
       },
       "id": "50861627-9d07-4a73-bb74-75dab971d499"
      }
     }
    },
    "fb194386-00c9-4713-becd-97e12237d480": {
     "id": "fb194386-00c9-4713-becd-97e12237d480",
     "prev": null,
     "regions": {
      "10a5521f-d0a1-48af-aeec-8ab6a2d3cd02": {
       "attrs": {
        "height": 0.8,
        "width": 0.8,
        "x": 0.1,
        "y": 0.1
       },
       "content": {
        "cell": "3e5dafa4-3fd2-43e7-98d6-1b2f0ce66224",
        "part": "whole"
       },
       "id": "10a5521f-d0a1-48af-aeec-8ab6a2d3cd02"
      }
     }
    }
   },
   "themes": {}
  }
 },
 "nbformat": 4,
 "nbformat_minor": 2
}
